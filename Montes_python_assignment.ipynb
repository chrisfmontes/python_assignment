{
 "cells": [
  {
   "cell_type": "markdown",
   "metadata": {},
   "source": [
    "# BCB546X Python Assignment Jupyter Notebook\n",
    "## Christian Montes-Serey\n",
    "\n",
    "Loading (importing) the required packages"
   ]
  },
  {
   "cell_type": "code",
   "execution_count": 1,
   "metadata": {
    "collapsed": true
   },
   "outputs": [],
   "source": [
    "from Bio import SeqIO\n",
    "from Bio.Data import CodonTable\n",
    "import pandas as pd"
   ]
  },
  {
   "cell_type": "markdown",
   "metadata": {},
   "source": [
    "## First function ##\n",
    "Dr. X: this gets sequences.\n",
    "Please finish documenting this function with comments, or in notebook markdown text.\n",
    "Your descriptions of all functions should contain information about what the function does, as well as information about the return types and arguments."
   ]
  },
  {
   "cell_type": "code",
   "execution_count": 2,
   "metadata": {
    "collapsed": true
   },
   "outputs": [],
   "source": [
    "def get_sequences_from_file(fasta_fn):\n",
    "    sequence_data_dict = {}\n",
    "    for record in SeqIO.parse(fasta_fn, \"fasta\"):\n",
    "        description = record.description.split()\n",
    "        species_name = description[1] + \" \" + description[2]\n",
    "        sequence_data_dict[species_name] = record.seq\n",
    "    return(sequence_data_dict)"
   ]
  },
  {
   "cell_type": "markdown",
   "metadata": {},
   "source": [
    "**First function explained:** We are defining (creating) a function called `get_seqences_from_file`. We have to provide the `fasta_fn` argument when using this function. This is, providing a **fasta** format file.  \n",
    "The `get_seqences_from_file` function does the following:  \n",
    "1. Creates an empty dictionary object, called `sequence_data_dict`  \n",
    "2. Starts a `for` loop that goes through each record in the provided **fasta** file (the `SeqIO.parse` function is used to access the file content and the `record` variable is used to store the parsed record). Each loop do:  \n",
    "2.1. Creates an object called `description`that stores the \"fasta header\" of the record. The `split()` function separate the header text into a `list` of elements, using the blank space to define each element.  \n",
    "2.2. Creates an object called `species_name` that have the second and third element of the `description` list object (with a blank space between the elements). This gave us exactly the taxonomic binomial nomenclature for the species whose DNA sequence belongs to.  \n",
    "2.3. Add the DNA sequence of `record` to our `sequemce_data_dict` dictionary using the species taxonimic name as the index.  \n",
    "3. After looping through every `record` element of `fasta_fn`, the function uses the `return` function to return the created dictionary."
   ]
  },
  {
   "cell_type": "code",
   "execution_count": 116,
   "metadata": {},
   "outputs": [],
   "source": [
    "def translate_function(string_nucleotides):\n",
    "    mito_table = CodonTable.unambiguous_dna_by_name[\"Vertebrate Mitochondrial\"]\n",
    "    aa_seq_string = \"\"\n",
    "    i = 0\n",
    "    while i < len(string_nucleotides):\n",
    "        codon = string_nucleotides[i:i+3]\n",
    "        if (codon == 'TAG' or codon == 'TAA' or codon == 'TGA'):\n",
    "#            i += 3\n",
    "#            continue\n",
    "            break\n",
    "        aa = mito_table.forward_table[codon]\n",
    "        aa_seq_string += aa\n",
    "        i += 3\n",
    "    return(aa_seq_string)"
   ]
  },
  {
   "cell_type": "markdown",
   "metadata": {},
   "source": [
    "**Second function explained:** "
   ]
  },
  {
   "cell_type": "code",
   "execution_count": 118,
   "metadata": {},
   "outputs": [],
   "source": [
    "from Bio.Seq import Seq\n",
    "from Bio.Alphabet import IUPAC\n",
    "def imp_translate_function(string_nucleotides):\n",
    "    coding_dna = Seq(string_nucleotides, IUPAC.unambiguous_dna)\n",
    "    aa_seq_string = coding_dna.translate()\n",
    "    return(aa_seq_string)"
   ]
  },
  {
   "cell_type": "markdown",
   "metadata": {},
   "source": [
    "**Third function explained:**"
   ]
  }
 ],
 "metadata": {
  "kernelspec": {
   "display_name": "Python 3",
   "language": "python",
   "name": "python3"
  },
  "language_info": {
   "codemirror_mode": {
    "name": "ipython",
    "version": 3
   },
   "file_extension": ".py",
   "mimetype": "text/x-python",
   "name": "python",
   "nbconvert_exporter": "python",
   "pygments_lexer": "ipython3",
   "version": "3.6.2"
  }
 },
 "nbformat": 4,
 "nbformat_minor": 2
}
