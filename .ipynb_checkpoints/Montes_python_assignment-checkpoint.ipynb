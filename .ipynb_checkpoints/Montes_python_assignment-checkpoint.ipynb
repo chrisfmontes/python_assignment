{
 "cells": [
  {
   "cell_type": "markdown",
   "metadata": {},
   "source": [
    "# BCB546X Python Assignment Jupyter Notebook\n",
    "## Christian Montes-Serey\n",
    "\n",
    "Loading (importing) the required packages"
   ]
  },
  {
   "cell_type": "code",
   "execution_count": 1,
   "metadata": {
    "collapsed": true
   },
   "outputs": [],
   "source": [
    "from Bio import SeqIO\n",
    "from Bio.Data import CodonTable\n",
    "import pandas as pd"
   ]
  },
  {
   "cell_type": "markdown",
   "metadata": {},
   "source": [
    "## First function ##\n",
    "Dr. X: this gets sequences.\n",
    "Please finish documenting this function with comments, or in notebook markdown text.\n",
    "Your descriptions of all functions should contain information about what the function does, as well as information about the return types and arguments."
   ]
  },
  {
   "cell_type": "code",
   "execution_count": 2,
   "metadata": {
    "collapsed": true
   },
   "outputs": [],
   "source": [
    "def get_sequences_from_file(fasta_fn):\n",
    "    sequence_data_dict = {}\n",
    "    for record in SeqIO.parse(fasta_fn, \"fasta\"):\n",
    "        description = record.description.split()\n",
    "        species_name = description[1] + \" \" + description[2]\n",
    "        sequence_data_dict[species_name] = record.seq\n",
    "    return(sequence_data_dict)"
   ]
  },
  {
   "cell_type": "markdown",
   "metadata": {},
   "source": [
    "**First function explained:**  \n",
    "We are defining (creating) a function called `get_seqences_from_file`. We have to provide the `fasta_fn` argument when using this function. This is, providing a **fasta** format file.  \n",
    "The `get_seqences_from_file` function does the following:  \n",
    "1. Creates an empty dictionary object, called `sequence_data_dict`  \n",
    "2. Starts a `for` loop that goes through each record in the provided **fasta** file (the `SeqIO.parse` function is used to access the file content and the `record` variable is used to store the parsed record). Each loop do:  \n",
    "2.1. Creates an object called `description`that stores the \"fasta header\" of the record. The `split()` function separate the header text into a `list` of elements, using the blank space to define each element.  \n",
    "2.2. Creates an object called `species_name` that have the second and third element of the `description` list object (with a blank space between the elements). This gave us exactly the taxonomic binomial nomenclature for the species whose DNA sequence belongs to.  \n",
    "2.3. Add the DNA sequence of `record` to our `sequemce_data_dict` dictionary using the species taxonimic name as the index.  \n",
    "3. After looping through every `record` element of `fasta_fn`, the function uses the `return` function to return the created dictionary."
   ]
  },
  {
   "cell_type": "markdown",
   "metadata": {},
   "source": [
    "## Second function ##"
   ]
  },
  {
   "cell_type": "code",
   "execution_count": 116,
   "metadata": {
    "collapsed": true
   },
   "outputs": [],
   "source": [
    "def translate_function(string_nucleotides):\n",
    "    mito_table = CodonTable.unambiguous_dna_by_name[\"Vertebrate Mitochondrial\"]\n",
    "    aa_seq_string = \"\"\n",
    "    i = 0\n",
    "    while i < len(string_nucleotides):\n",
    "        codon = string_nucleotides[i:i+3]\n",
    "        if (codon == 'TAG' or codon == 'TAA' or codon == 'TGA'):\n",
    "            break\n",
    "        aa = mito_table.forward_table[codon]\n",
    "        aa_seq_string += aa\n",
    "        i += 3\n",
    "    return(aa_seq_string)"
   ]
  },
  {
   "cell_type": "markdown",
   "metadata": {},
   "source": [
    "**Second function explained:**  \n"
   ]
  },
  {
   "cell_type": "markdown",
   "metadata": {},
   "source": [
    "## Third function ##"
   ]
  },
  {
   "cell_type": "code",
   "execution_count": 118,
   "metadata": {
    "collapsed": true
   },
   "outputs": [],
   "source": [
    "from Bio.Seq import Seq\n",
    "from Bio.Alphabet import IUPAC\n",
    "def imp_translate_function(string_nucleotides):\n",
    "    coding_dna = Seq(string_nucleotides, IUPAC.unambiguous_dna)\n",
    "    aa_seq_string = coding_dna.translate()\n",
    "    return(aa_seq_string)"
   ]
  },
  {
   "cell_type": "markdown",
   "metadata": {},
   "source": [
    "**Third function explained:**  \n",
    "Components of this function were taken from [biopython cookbook](http://biopython.org/DIST/docs/tutorial/Tutorial.html#htoc25)"
   ]
  },
  {
   "cell_type": "markdown",
   "metadata": {},
   "source": [
    "## Fourth function ##"
   ]
  },
  {
   "cell_type": "code",
   "execution_count": 122,
   "metadata": {
    "collapsed": true
   },
   "outputs": [],
   "source": [
    "from Bio.SeqUtils.ProtParam import ProteinAnalysis\n",
    "def compute_molecular_weight(aa_seq):\n",
    "    analysed_seq = ProteinAnalysis(aa_seq)\n",
    "    seq_aa_weight = analysed_seq.molecular_weight()\n",
    "    return(seq_aa_weight)"
   ]
  },
  {
   "cell_type": "markdown",
   "metadata": {},
   "source": [
    "**Fourth function explained:**  \n"
   ]
  },
  {
   "cell_type": "markdown",
   "metadata": {},
   "source": [
    "## Fifth function ##"
   ]
  },
  {
   "cell_type": "code",
   "execution_count": 169,
   "metadata": {},
   "outputs": [],
   "source": [
    "def get_GC_content(string_nucleotides):\n",
    "    count = 0\n",
    "    for base in string_nucleotides:\n",
    "        if (base == 'G' or base == 'C'):\n",
    "            count += 1\n",
    "#            print(count)\n",
    "    return(count / len(string_nucleotides)*100)"
   ]
  },
  {
   "cell_type": "markdown",
   "metadata": {},
   "source": [
    "**Fifth function explained:**"
   ]
  },
  {
   "cell_type": "markdown",
   "metadata": {},
   "source": [
    "# Main #"
   ]
  },
  {
   "cell_type": "code",
   "execution_count": 144,
   "metadata": {
    "collapsed": true
   },
   "outputs": [],
   "source": [
    "cytb_seqs = get_sequences_from_file(\"penguins_cytb.fasta\")"
   ]
  },
  {
   "cell_type": "code",
   "execution_count": 165,
   "metadata": {
    "collapsed": true
   },
   "outputs": [],
   "source": [
    "penguins_df = pd.read_csv(\"penguins_mass.csv\") # Includes only data for body mass \n",
    "species_list = list(penguins_df.species)"
   ]
  },
  {
   "cell_type": "code",
   "execution_count": 166,
   "metadata": {},
   "outputs": [],
   "source": [
    "penguins_df['molecular_weight'] = 'NaN'\n",
    "penguins_df['GC_content'] = 'NaN'"
   ]
  },
  {
   "cell_type": "code",
   "execution_count": 167,
   "metadata": {},
   "outputs": [
    {
     "data": {
      "text/html": [
       "<div>\n",
       "<style>\n",
       "    .dataframe thead tr:only-child th {\n",
       "        text-align: right;\n",
       "    }\n",
       "\n",
       "    .dataframe thead th {\n",
       "        text-align: left;\n",
       "    }\n",
       "\n",
       "    .dataframe tbody tr th {\n",
       "        vertical-align: top;\n",
       "    }\n",
       "</style>\n",
       "<table border=\"1\" class=\"dataframe\">\n",
       "  <thead>\n",
       "    <tr style=\"text-align: right;\">\n",
       "      <th></th>\n",
       "      <th>species</th>\n",
       "      <th>mass</th>\n",
       "      <th>molecular_weight</th>\n",
       "      <th>GC_content</th>\n",
       "    </tr>\n",
       "  </thead>\n",
       "  <tbody>\n",
       "    <tr>\n",
       "      <th>0</th>\n",
       "      <td>Aptenodytes forsteri</td>\n",
       "      <td>28.00</td>\n",
       "      <td>NaN</td>\n",
       "      <td>NaN</td>\n",
       "    </tr>\n",
       "    <tr>\n",
       "      <th>1</th>\n",
       "      <td>Aptenodytes patagonicus</td>\n",
       "      <td>13.40</td>\n",
       "      <td>NaN</td>\n",
       "      <td>NaN</td>\n",
       "    </tr>\n",
       "    <tr>\n",
       "      <th>2</th>\n",
       "      <td>Eudyptes chrysocome</td>\n",
       "      <td>2.80</td>\n",
       "      <td>NaN</td>\n",
       "      <td>NaN</td>\n",
       "    </tr>\n",
       "    <tr>\n",
       "      <th>3</th>\n",
       "      <td>Eudyptes chrysolophus</td>\n",
       "      <td>4.50</td>\n",
       "      <td>NaN</td>\n",
       "      <td>NaN</td>\n",
       "    </tr>\n",
       "    <tr>\n",
       "      <th>4</th>\n",
       "      <td>Eudyptes sclateri</td>\n",
       "      <td>4.25</td>\n",
       "      <td>NaN</td>\n",
       "      <td>NaN</td>\n",
       "    </tr>\n",
       "    <tr>\n",
       "      <th>5</th>\n",
       "      <td>Eudyptula minor</td>\n",
       "      <td>1.60</td>\n",
       "      <td>NaN</td>\n",
       "      <td>NaN</td>\n",
       "    </tr>\n",
       "    <tr>\n",
       "      <th>6</th>\n",
       "      <td>Pygoscelis adeliae</td>\n",
       "      <td>4.60</td>\n",
       "      <td>NaN</td>\n",
       "      <td>NaN</td>\n",
       "    </tr>\n",
       "    <tr>\n",
       "      <th>7</th>\n",
       "      <td>Pygoscelis antarctica</td>\n",
       "      <td>4.10</td>\n",
       "      <td>NaN</td>\n",
       "      <td>NaN</td>\n",
       "    </tr>\n",
       "    <tr>\n",
       "      <th>8</th>\n",
       "      <td>Pygoscelis papua</td>\n",
       "      <td>6.10</td>\n",
       "      <td>NaN</td>\n",
       "      <td>NaN</td>\n",
       "    </tr>\n",
       "    <tr>\n",
       "      <th>9</th>\n",
       "      <td>Spheniscus demersus</td>\n",
       "      <td>3.20</td>\n",
       "      <td>NaN</td>\n",
       "      <td>NaN</td>\n",
       "    </tr>\n",
       "    <tr>\n",
       "      <th>10</th>\n",
       "      <td>Spheniscus humboldti</td>\n",
       "      <td>4.75</td>\n",
       "      <td>NaN</td>\n",
       "      <td>NaN</td>\n",
       "    </tr>\n",
       "    <tr>\n",
       "      <th>11</th>\n",
       "      <td>Spheniscus magellanicus</td>\n",
       "      <td>3.40</td>\n",
       "      <td>NaN</td>\n",
       "      <td>NaN</td>\n",
       "    </tr>\n",
       "  </tbody>\n",
       "</table>\n",
       "</div>"
      ],
      "text/plain": [
       "                    species   mass molecular_weight GC_content\n",
       "0      Aptenodytes forsteri  28.00              NaN        NaN\n",
       "1   Aptenodytes patagonicus  13.40              NaN        NaN\n",
       "2       Eudyptes chrysocome   2.80              NaN        NaN\n",
       "3     Eudyptes chrysolophus   4.50              NaN        NaN\n",
       "4         Eudyptes sclateri   4.25              NaN        NaN\n",
       "5           Eudyptula minor   1.60              NaN        NaN\n",
       "6        Pygoscelis adeliae   4.60              NaN        NaN\n",
       "7     Pygoscelis antarctica   4.10              NaN        NaN\n",
       "8          Pygoscelis papua   6.10              NaN        NaN\n",
       "9       Spheniscus demersus   3.20              NaN        NaN\n",
       "10     Spheniscus humboldti   4.75              NaN        NaN\n",
       "11  Spheniscus magellanicus   3.40              NaN        NaN"
      ]
     },
     "execution_count": 167,
     "metadata": {},
     "output_type": "execute_result"
    }
   ],
   "source": [
    "penguins_df"
   ]
  },
  {
   "cell_type": "code",
   "execution_count": 180,
   "metadata": {},
   "outputs": [
    {
     "name": "stdout",
     "output_type": "stream",
     "text": [
      "Aptenodytes forsteri MAPNLRKSHPLLKMINNSLIDLPTPSNISA 3286.865200000001 48.38145231846019\n",
      "Aptenodytes patagonicus MAPNLRKSHPLLKMINNSLIDLPTPSNISA 3286.865200000001 49.69378827646544\n",
      "Eudyptes chrysocome MAPNLRKSHPLLKTINNSLIDLPTPSNISA 3256.7731000000013 51.181102362204726\n",
      "Eudyptes chrysolophus MAPNLRKSHPLLKTINNSLIDLPTPSNISA 3256.7731000000013 50.91863517060368\n",
      "Eudyptes sclateri MAPNLRKSHPLLKTINNSLIDLPTPSNISA 3256.7731000000013 50.83114610673666\n",
      "Eudyptula minor MAPNLRKSHPLLKMINNSLIDLPTPSNIST 3316.891200000001 49.256342957130364\n",
      "Pygoscelis adeliae MAPNLRKSHPLLKMINNSLIDLPTPSNISA 3286.865200000001 49.08136482939632\n",
      "Pygoscelis antarctica MAPNLRKSHPLLKMINNSLIDLPTPSNISA 3286.865200000001 47.76902887139108\n",
      "Pygoscelis papua MAPNLRKSHPLLKMINKSLIDLPTPPNISA 3310.9728000000014 47.15660542432196\n",
      "Spheniscus demersus MAPNLRKSHPLLKTINNSLIDLPTPSNISA 3256.7731000000013 48.29396325459317\n",
      "Spheniscus humboldti MAPNLRKSHPLLKTINNSLIDLPTPSNISA 3256.7731000000013 49.256342957130364\n",
      "Spheniscus magellanicus MAPNLRKSHPLLKTINNSLIDLPTPSNISA 3256.7731000000013 48.20647419072616\n"
     ]
    },
    {
     "name": "stderr",
     "output_type": "stream",
     "text": [
      "C:\\Users\\Pollo\\Anaconda3\\lib\\site-packages\\Bio\\Seq.py:152: BiopythonWarning: Biopython Seq objects now use string comparison. Older versions of Biopython used object comparison. During this transition, please use hash(id(my_seq)) or my_dict[id(my_seq)] if you want the old behaviour, or use hash(str(my_seq)) or my_dict[str(my_seq)] for the new string hashing behaviour.\n",
      "  \"the new string hashing behaviour.\", BiopythonWarning)\n"
     ]
    }
   ],
   "source": [
    "for key, value in cytb_seqs.items():\n",
    "    aa_seq = translate_function(value)\n",
    "    mol_wght = compute_molecular_weight(aa_seq)\n",
    "    GC_con = get_GC_content(value)\n",
    "    penguins_df.loc[penguins_df['species'].str.contains(key), 'molecular_weight'] = mol_wght\n",
    "    penguins_df.loc[penguins_df['species'].str.contains(key), 'GC_content'] = GC_con\n",
    "    print(key, aa_seq, mol_wght, GC_con)"
   ]
  },
  {
   "cell_type": "code",
   "execution_count": 181,
   "metadata": {},
   "outputs": [
    {
     "data": {
      "text/html": [
       "<div>\n",
       "<style>\n",
       "    .dataframe thead tr:only-child th {\n",
       "        text-align: right;\n",
       "    }\n",
       "\n",
       "    .dataframe thead th {\n",
       "        text-align: left;\n",
       "    }\n",
       "\n",
       "    .dataframe tbody tr th {\n",
       "        vertical-align: top;\n",
       "    }\n",
       "</style>\n",
       "<table border=\"1\" class=\"dataframe\">\n",
       "  <thead>\n",
       "    <tr style=\"text-align: right;\">\n",
       "      <th></th>\n",
       "      <th>species</th>\n",
       "      <th>mass</th>\n",
       "      <th>molecular_weight</th>\n",
       "      <th>GC_content</th>\n",
       "    </tr>\n",
       "  </thead>\n",
       "  <tbody>\n",
       "    <tr>\n",
       "      <th>0</th>\n",
       "      <td>Aptenodytes forsteri</td>\n",
       "      <td>28.00</td>\n",
       "      <td>3286.87</td>\n",
       "      <td>48.3815</td>\n",
       "    </tr>\n",
       "    <tr>\n",
       "      <th>1</th>\n",
       "      <td>Aptenodytes patagonicus</td>\n",
       "      <td>13.40</td>\n",
       "      <td>3286.87</td>\n",
       "      <td>49.6938</td>\n",
       "    </tr>\n",
       "    <tr>\n",
       "      <th>2</th>\n",
       "      <td>Eudyptes chrysocome</td>\n",
       "      <td>2.80</td>\n",
       "      <td>3256.77</td>\n",
       "      <td>51.1811</td>\n",
       "    </tr>\n",
       "    <tr>\n",
       "      <th>3</th>\n",
       "      <td>Eudyptes chrysolophus</td>\n",
       "      <td>4.50</td>\n",
       "      <td>3256.77</td>\n",
       "      <td>50.9186</td>\n",
       "    </tr>\n",
       "    <tr>\n",
       "      <th>4</th>\n",
       "      <td>Eudyptes sclateri</td>\n",
       "      <td>4.25</td>\n",
       "      <td>3256.77</td>\n",
       "      <td>50.8311</td>\n",
       "    </tr>\n",
       "    <tr>\n",
       "      <th>5</th>\n",
       "      <td>Eudyptula minor</td>\n",
       "      <td>1.60</td>\n",
       "      <td>3316.89</td>\n",
       "      <td>49.2563</td>\n",
       "    </tr>\n",
       "    <tr>\n",
       "      <th>6</th>\n",
       "      <td>Pygoscelis adeliae</td>\n",
       "      <td>4.60</td>\n",
       "      <td>3286.87</td>\n",
       "      <td>49.0814</td>\n",
       "    </tr>\n",
       "    <tr>\n",
       "      <th>7</th>\n",
       "      <td>Pygoscelis antarctica</td>\n",
       "      <td>4.10</td>\n",
       "      <td>3286.87</td>\n",
       "      <td>47.769</td>\n",
       "    </tr>\n",
       "    <tr>\n",
       "      <th>8</th>\n",
       "      <td>Pygoscelis papua</td>\n",
       "      <td>6.10</td>\n",
       "      <td>3310.97</td>\n",
       "      <td>47.1566</td>\n",
       "    </tr>\n",
       "    <tr>\n",
       "      <th>9</th>\n",
       "      <td>Spheniscus demersus</td>\n",
       "      <td>3.20</td>\n",
       "      <td>3256.77</td>\n",
       "      <td>48.294</td>\n",
       "    </tr>\n",
       "    <tr>\n",
       "      <th>10</th>\n",
       "      <td>Spheniscus humboldti</td>\n",
       "      <td>4.75</td>\n",
       "      <td>3256.77</td>\n",
       "      <td>49.2563</td>\n",
       "    </tr>\n",
       "    <tr>\n",
       "      <th>11</th>\n",
       "      <td>Spheniscus magellanicus</td>\n",
       "      <td>3.40</td>\n",
       "      <td>3256.77</td>\n",
       "      <td>48.2065</td>\n",
       "    </tr>\n",
       "  </tbody>\n",
       "</table>\n",
       "</div>"
      ],
      "text/plain": [
       "                    species   mass molecular_weight GC_content\n",
       "0      Aptenodytes forsteri  28.00          3286.87    48.3815\n",
       "1   Aptenodytes patagonicus  13.40          3286.87    49.6938\n",
       "2       Eudyptes chrysocome   2.80          3256.77    51.1811\n",
       "3     Eudyptes chrysolophus   4.50          3256.77    50.9186\n",
       "4         Eudyptes sclateri   4.25          3256.77    50.8311\n",
       "5           Eudyptula minor   1.60          3316.89    49.2563\n",
       "6        Pygoscelis adeliae   4.60          3286.87    49.0814\n",
       "7     Pygoscelis antarctica   4.10          3286.87     47.769\n",
       "8          Pygoscelis papua   6.10          3310.97    47.1566\n",
       "9       Spheniscus demersus   3.20          3256.77     48.294\n",
       "10     Spheniscus humboldti   4.75          3256.77    49.2563\n",
       "11  Spheniscus magellanicus   3.40          3256.77    48.2065"
      ]
     },
     "execution_count": 181,
     "metadata": {},
     "output_type": "execute_result"
    }
   ],
   "source": [
    "penguins_df"
   ]
  },
  {
   "cell_type": "code",
   "execution_count": 182,
   "metadata": {
    "collapsed": true
   },
   "outputs": [],
   "source": [
    "import matplotlib.pyplot as plt\n",
    "import seaborn as sns"
   ]
  },
  {
   "cell_type": "code",
   "execution_count": 183,
   "metadata": {
    "collapsed": true
   },
   "outputs": [],
   "source": [
    "%matplotlib inline"
   ]
  },
  {
   "cell_type": "code",
   "execution_count": null,
   "metadata": {
    "collapsed": true
   },
   "outputs": [],
   "source": []
  }
 ],
 "metadata": {
  "kernelspec": {
   "display_name": "Python 3",
   "language": "python",
   "name": "python3"
  },
  "language_info": {
   "codemirror_mode": {
    "name": "ipython",
    "version": 3
   },
   "file_extension": ".py",
   "mimetype": "text/x-python",
   "name": "python",
   "nbconvert_exporter": "python",
   "pygments_lexer": "ipython3",
   "version": "3.6.2"
  }
 },
 "nbformat": 4,
 "nbformat_minor": 2
}
