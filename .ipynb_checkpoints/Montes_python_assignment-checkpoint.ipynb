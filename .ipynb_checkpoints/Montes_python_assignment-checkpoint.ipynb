{
 "cells": [
  {
   "cell_type": "markdown",
   "metadata": {},
   "source": [
    "# BCB546X Python Assignment Jupyter Notebook\n",
    "## Christian Montes-Serey\n",
    "\n",
    "Loading (importing) the required packages"
   ]
  },
  {
   "cell_type": "code",
   "execution_count": 1,
   "metadata": {
    "collapsed": true
   },
   "outputs": [],
   "source": [
    "from Bio import SeqIO\n",
    "from Bio.Data import CodonTable\n",
    "import pandas as pd"
   ]
  },
  {
   "cell_type": "markdown",
   "metadata": {},
   "source": [
    "## First function ##\n",
    "Dr. X: this gets sequences.\n",
    "Please finish documenting this function with comments, or in notebook markdown text.\n",
    "Your descriptions of all functions should contain information about what the function does, as well as information about the return types and arguments."
   ]
  },
  {
   "cell_type": "code",
   "execution_count": 2,
   "metadata": {
    "collapsed": true
   },
   "outputs": [],
   "source": [
    "def get_sequences_from_file(fasta_fn):\n",
    "    sequence_data_dict = {}\n",
    "    for record in SeqIO.parse(fasta_fn, \"fasta\"):\n",
    "        description = record.description.split()\n",
    "        species_name = description[1] + \" \" + description[2]\n",
    "        sequence_data_dict[species_name] = record.seq\n",
    "    return(sequence_data_dict)"
   ]
  },
  {
   "cell_type": "markdown",
   "metadata": {},
   "source": [
    "**First function explained:**  \n",
    "We are defining (creating) a function called `get_seqences_from_file`. We have to provide the `fasta_fn` argument when using this function. This is, providing a **fasta** format file.  \n",
    "The `get_seqences_from_file` function does the following:  \n",
    "1. Creates an empty dictionary object, called `sequence_data_dict`  \n",
    "2. Starts a `for` loop that goes through each record in the provided **fasta** file (the `SeqIO.parse` function is used to access the file content and the `record` variable is used to store the parsed record). Each loop do:  \n",
    "2.1. Creates an object called `description`that stores the \"fasta header\" of the record. The `split()` function separate the header text into a `list` of elements, using the blank space to define each element.  \n",
    "2.2. Creates an object called `species_name` that have the second and third element of the `description` list object (with a blank space between the elements). This gave us exactly the taxonomic binomial nomenclature for the species whose DNA sequence belongs to.  \n",
    "2.3. Add the DNA sequence of `record` to our `sequemce_data_dict` dictionary using the species taxonimic name as the index.  \n",
    "3. After looping through every `record` element of `fasta_fn`, the function uses the `return` function to return the created dictionary."
   ]
  },
  {
   "cell_type": "markdown",
   "metadata": {},
   "source": [
    "## Second function ##\n",
    "The following function takea a string of DNA sequence and makes the translation until it reaches the first \"stop\" codon. This function uses the \"Vertebrate Mitochondrial\" codon table."
   ]
  },
  {
   "cell_type": "code",
   "execution_count": 3,
   "metadata": {
    "collapsed": true
   },
   "outputs": [],
   "source": [
    "def translate_function(string_nucleotides):\n",
    "    mito_table = CodonTable.unambiguous_dna_by_name[\"Vertebrate Mitochondrial\"]\n",
    "    aa_seq_string = \"\"\n",
    "    i = 0\n",
    "    while i < len(string_nucleotides):\n",
    "        codon = string_nucleotides[i:i+3]\n",
    "        if (codon == 'TAG' or codon == 'TAA' or codon == 'AGA' or codon == 'AGG'):\n",
    "            break\n",
    "        aa = mito_table.forward_table[codon]\n",
    "        aa_seq_string += aa\n",
    "        i += 3\n",
    "    return(aa_seq_string)"
   ]
  },
  {
   "cell_type": "markdown",
   "metadata": {},
   "source": [
    "**Second function explained:**  \n",
    "Here, we are creating a function called `translate_function` that requires the `string_nucleotides` input argument. This argument must be a DNA sequence string. It is adviced to provide the sequence as a `string` type object. If the sequence is provided as a `Seq` type object, we can coerce it to `string` type using `str(string_nucleitides)`.  \n",
    "  \n",
    "The function is divided into the following steps:  \n",
    "1. Creates an object called \"mito_table\" wich contains the codon usage table.\n",
    "2. Creates an empty `string`-type object called \"aa_seq_string\"\n",
    "3. Creates an numeric object called \"i\" and sets the value of our object \"i\" to 0. This object is going to be used later as a variable.\n",
    "4. Starts a \"while\" loop that will go on until the value of \"i\" is greater than the length of the sequence defined by `string_nucleotides`. This loop will do as follows:  \n",
    "4.1. Creates an object called \"codon\" that contains a slice of `string_nucleotides`. This slice is three nucleotides long (from i to i+3).  \n",
    "4.2. Starts an \"if\" statement with two options:  \n",
    "    4.2.1. If the sequence stored in \"codon\" is equal to one of the known \"stop\" codons (according to vertebrate mitochondrial codon usage table), the loop will end.  \n",
    "    4.2.2. If the sequence in \"codon\" is not one of those \"stop\" codons, then the code will do the following:  \n",
    "        4.2.2.1. Creates an object called \"aa\", which caontains the one-letter aminoacid symbol that corresponds to the \n",
    "        translation of the sequence in \"codon\", according to the vertebrate mitochondrial codon usage table.  \n",
    "        4.2.2.2. Adds the one-letter aminoacid symbol in the object \"aa\" to the object \"aa_seq_string\".  \n",
    "        4.2.2.3. Increases the value of the object \"i\" by 3. In order to grab the following 3 nucleotides of \n",
    "        `string_nucleotides` on the next round of loop.\n",
    "\n",
    "Once the loop is done, the function returns the obtained aminocid sequence, by using the `return` function on the object \"aa_seq_string\"."
   ]
  },
  {
   "cell_type": "markdown",
   "metadata": {},
   "source": [
    "## Third function ##\n",
    "The following function takes a string of DNA sequence and makes the translation until it reaches the first \"stop\" codon. This function uses the \"Vertebrate Mitochondrial\" codon table. I made this function using the information provided in the [biopython cookbook](http://biopython.org/DIST/docs/tutorial/Tutorial.html#htoc25)"
   ]
  },
  {
   "cell_type": "code",
   "execution_count": 4,
   "metadata": {
    "collapsed": true
   },
   "outputs": [],
   "source": [
    "from Bio.Seq import Seq\n",
    "from Bio.Alphabet import IUPAC\n",
    "def imp_translate_function(string_nucleotides):\n",
    "    coding_dna = Seq(string_nucleotides, IUPAC.unambiguous_dna)\n",
    "    aa_seq_string = coding_dna.translate(table=\"Vertebrate Mitochondrial\", to_stop=True)\n",
    "    return(aa_seq_string)"
   ]
  },
  {
   "cell_type": "markdown",
   "metadata": {},
   "source": [
    "**Third function explained:**  \n",
    "Before start the function, we import the required packages. \n",
    "\n",
    "Here, we are creating a function called `imp_translate_function` that requires the `string_nucleotides` input argument. This argument must be a DNA sequence string. Same as with the previous function, it is adviced to provide the sequence as a `string` type object. If the sequence is provided as a `Seq` type object, we can coerce it to `string` type using `str(string_nucleitides)`.  \n",
    "This function does as follows:\n",
    "1. Creates a `Seq`-type object called \"coding_dna\" that contains the nucleotide DNA sequence of `string_nucleotides`.\n",
    "2. Creates an object called \"aa_seq_string\" that will contain the one-letter aminoacid sequence for the translation of `string_nucleotides`, according to the vertebrate mitochondrial codon usage table. The translation will go until it reaches the first \"stop\" codon (also according to the vertebrate mitochondrial codon usage table).\n",
    "3. It will finally return the obtained aminocid sequence, by using the `return` function on the object \"aa_seq_string\"."
   ]
  },
  {
   "cell_type": "markdown",
   "metadata": {},
   "source": [
    "## Fourth function ##\n",
    "This function takes an aminoacid sequence string and compute its molecular weight"
   ]
  },
  {
   "cell_type": "code",
   "execution_count": 5,
   "metadata": {
    "collapsed": true
   },
   "outputs": [],
   "source": [
    "from Bio.SeqUtils.ProtParam import ProteinAnalysis\n",
    "def compute_molecular_weight(aa_seq):\n",
    "    analysed_seq = ProteinAnalysis(aa_seq)\n",
    "    seq_aa_weight = analysed_seq.molecular_weight()\n",
    "    return(seq_aa_weight)"
   ]
  },
  {
   "cell_type": "markdown",
   "metadata": {},
   "source": [
    "**Fourth function explained:**  \n",
    "Before start the function, we import the required packages.  \n",
    "  \n",
    "We are creating a function called `compute_molecular_weight` that requires the `aa_seq` imput argument. This imput should be an one-letter aminocid sequence string. Therefor, if your imput comes as a `Seq`-type object, it must be coerced into a `string`-type object by using `str(aa_seq)`.  \n",
    "This function do the following steps:  \n",
    "1. Creates an object called \"analysed_seq\" that contains `aa_seq`, this object type is needed for the function to calculate molecular weight.\n",
    "2. Creates an object called \"seq_aa_weight\" wich contains the molecular weight calculated for `aa_seq`\n",
    "3. Return the calculated molecular weight by using the `return` function on the object \"seq_aa_weight\"."
   ]
  },
  {
   "cell_type": "markdown",
   "metadata": {},
   "source": [
    "## Fifth function ##\n",
    "This function takes a DNA sequence (or any other string of letters) and calculate the G/C content percentage"
   ]
  },
  {
   "cell_type": "code",
   "execution_count": 6,
   "metadata": {
    "collapsed": true
   },
   "outputs": [],
   "source": [
    "def get_GC_content(string_nucleotides):\n",
    "    count = 0\n",
    "    for base in string_nucleotides:\n",
    "        if (base == 'G' or base == 'C'):\n",
    "            count += 1\n",
    "    return(count / len(string_nucleotides)*100)"
   ]
  },
  {
   "cell_type": "markdown",
   "metadata": {},
   "source": [
    "**Fifth function explained:**  \n",
    "We are creating a function called `get_GC_content` that requires the `string_nucleotides` argument. This argument must be a DNA sequence string (it can also be any string of letters). It is adviced to provide the sequence as a `string` type object. If the sequence is provided as a `Seq` type object, we can coerce it to `string` type using `str(string_nucleitides)`.  \n",
    "This function does as follows:  \n",
    "1. Creates a numeric object called \"count\" and sets the value of our object \"count\" to 0. This object is going to be used for counting the incidences of \"G\" and \"C\" on the provided sequence.\n",
    "2. Starts a \"for\" loop that goes through each `base` (letter) on the provided `string_nucleotide`. For each loop iteration the code looks for a \"G\" or a \"C\" in `base`. If one of these letter is present in `base`, then \"count\" value increases by 1.\n",
    "3. It finally returns the value of \"count\" divided by the total number of letters in `string_nucleotide`, multiplied by 100. This will give us the G/C percentage."
   ]
  },
  {
   "cell_type": "markdown",
   "metadata": {},
   "source": [
    "# Main #"
   ]
  },
  {
   "cell_type": "code",
   "execution_count": 7,
   "metadata": {
    "collapsed": true
   },
   "outputs": [],
   "source": [
    "cytb_seqs = get_sequences_from_file(\"penguins_cytb.fasta\")"
   ]
  },
  {
   "cell_type": "code",
   "execution_count": 8,
   "metadata": {
    "collapsed": true
   },
   "outputs": [],
   "source": [
    "penguins_df = pd.read_csv(\"penguins_mass.csv\") # Includes only data for body mass \n",
    "species_list = list(penguins_df.species)"
   ]
  },
  {
   "cell_type": "markdown",
   "metadata": {},
   "source": [
    "### **Add two new columns to the penguin DataFrame: (1) molecular weight and (2) GC content.**  \n",
    "### **Set the value to 'NaN' to indicate that these cells are currently empty.**"
   ]
  },
  {
   "cell_type": "code",
   "execution_count": 9,
   "metadata": {
    "collapsed": true
   },
   "outputs": [],
   "source": [
    "penguins_df['molecular_weight'] = 'NaN'\n",
    "penguins_df['GC_content'] = 'NaN'"
   ]
  },
  {
   "cell_type": "code",
   "execution_count": 10,
   "metadata": {},
   "outputs": [
    {
     "data": {
      "text/html": [
       "<div>\n",
       "<style>\n",
       "    .dataframe thead tr:only-child th {\n",
       "        text-align: right;\n",
       "    }\n",
       "\n",
       "    .dataframe thead th {\n",
       "        text-align: left;\n",
       "    }\n",
       "\n",
       "    .dataframe tbody tr th {\n",
       "        vertical-align: top;\n",
       "    }\n",
       "</style>\n",
       "<table border=\"1\" class=\"dataframe\">\n",
       "  <thead>\n",
       "    <tr style=\"text-align: right;\">\n",
       "      <th></th>\n",
       "      <th>species</th>\n",
       "      <th>mass</th>\n",
       "      <th>molecular_weight</th>\n",
       "      <th>GC_content</th>\n",
       "    </tr>\n",
       "  </thead>\n",
       "  <tbody>\n",
       "    <tr>\n",
       "      <th>0</th>\n",
       "      <td>Aptenodytes forsteri</td>\n",
       "      <td>28.00</td>\n",
       "      <td>NaN</td>\n",
       "      <td>NaN</td>\n",
       "    </tr>\n",
       "    <tr>\n",
       "      <th>1</th>\n",
       "      <td>Aptenodytes patagonicus</td>\n",
       "      <td>13.40</td>\n",
       "      <td>NaN</td>\n",
       "      <td>NaN</td>\n",
       "    </tr>\n",
       "    <tr>\n",
       "      <th>2</th>\n",
       "      <td>Eudyptes chrysocome</td>\n",
       "      <td>2.80</td>\n",
       "      <td>NaN</td>\n",
       "      <td>NaN</td>\n",
       "    </tr>\n",
       "    <tr>\n",
       "      <th>3</th>\n",
       "      <td>Eudyptes chrysolophus</td>\n",
       "      <td>4.50</td>\n",
       "      <td>NaN</td>\n",
       "      <td>NaN</td>\n",
       "    </tr>\n",
       "    <tr>\n",
       "      <th>4</th>\n",
       "      <td>Eudyptes sclateri</td>\n",
       "      <td>4.25</td>\n",
       "      <td>NaN</td>\n",
       "      <td>NaN</td>\n",
       "    </tr>\n",
       "    <tr>\n",
       "      <th>5</th>\n",
       "      <td>Eudyptula minor</td>\n",
       "      <td>1.60</td>\n",
       "      <td>NaN</td>\n",
       "      <td>NaN</td>\n",
       "    </tr>\n",
       "    <tr>\n",
       "      <th>6</th>\n",
       "      <td>Pygoscelis adeliae</td>\n",
       "      <td>4.60</td>\n",
       "      <td>NaN</td>\n",
       "      <td>NaN</td>\n",
       "    </tr>\n",
       "    <tr>\n",
       "      <th>7</th>\n",
       "      <td>Pygoscelis antarctica</td>\n",
       "      <td>4.10</td>\n",
       "      <td>NaN</td>\n",
       "      <td>NaN</td>\n",
       "    </tr>\n",
       "    <tr>\n",
       "      <th>8</th>\n",
       "      <td>Pygoscelis papua</td>\n",
       "      <td>6.10</td>\n",
       "      <td>NaN</td>\n",
       "      <td>NaN</td>\n",
       "    </tr>\n",
       "    <tr>\n",
       "      <th>9</th>\n",
       "      <td>Spheniscus demersus</td>\n",
       "      <td>3.20</td>\n",
       "      <td>NaN</td>\n",
       "      <td>NaN</td>\n",
       "    </tr>\n",
       "    <tr>\n",
       "      <th>10</th>\n",
       "      <td>Spheniscus humboldti</td>\n",
       "      <td>4.75</td>\n",
       "      <td>NaN</td>\n",
       "      <td>NaN</td>\n",
       "    </tr>\n",
       "    <tr>\n",
       "      <th>11</th>\n",
       "      <td>Spheniscus magellanicus</td>\n",
       "      <td>3.40</td>\n",
       "      <td>NaN</td>\n",
       "      <td>NaN</td>\n",
       "    </tr>\n",
       "  </tbody>\n",
       "</table>\n",
       "</div>"
      ],
      "text/plain": [
       "                    species   mass molecular_weight GC_content\n",
       "0      Aptenodytes forsteri  28.00              NaN        NaN\n",
       "1   Aptenodytes patagonicus  13.40              NaN        NaN\n",
       "2       Eudyptes chrysocome   2.80              NaN        NaN\n",
       "3     Eudyptes chrysolophus   4.50              NaN        NaN\n",
       "4         Eudyptes sclateri   4.25              NaN        NaN\n",
       "5           Eudyptula minor   1.60              NaN        NaN\n",
       "6        Pygoscelis adeliae   4.60              NaN        NaN\n",
       "7     Pygoscelis antarctica   4.10              NaN        NaN\n",
       "8          Pygoscelis papua   6.10              NaN        NaN\n",
       "9       Spheniscus demersus   3.20              NaN        NaN\n",
       "10     Spheniscus humboldti   4.75              NaN        NaN\n",
       "11  Spheniscus magellanicus   3.40              NaN        NaN"
      ]
     },
     "execution_count": 10,
     "metadata": {},
     "output_type": "execute_result"
    }
   ],
   "source": [
    "penguins_df"
   ]
  },
  {
   "cell_type": "markdown",
   "metadata": {},
   "source": [
    "### **Write a for-loop that translates each sequence and also gets molecular weight and computes the GC content of each translated sequence and adds those data to DataFrame**"
   ]
  },
  {
   "cell_type": "code",
   "execution_count": 11,
   "metadata": {
    "collapsed": true
   },
   "outputs": [],
   "source": [
    "for key, value in cytb_seqs.items():\n",
    "    aa_seq = translate_function(str(value))\n",
    "    mol_wght = compute_molecular_weight(str(aa_seq))\n",
    "    GC_con = get_GC_content(value)\n",
    "    penguins_df.loc[penguins_df['species'].str.contains(key), 'molecular_weight'] = mol_wght\n",
    "    penguins_df.loc[penguins_df['species'].str.contains(key), 'GC_content'] = GC_con"
   ]
  },
  {
   "cell_type": "markdown",
   "metadata": {},
   "source": [
    "**Code explained**  \n",
    "This piece of code creates a \"for\" loop that goes though each element of the `cytb_seqs` dictionary created by the **first function**. Each iteration does as follows:\n",
    "1. Uses the **second function** to translate the DNA string provided by the `value` variable (coerced into `string`-type). It creates an object called \"aa_seq\" to store the result of the function.\n",
    "2. Uses the **fourth function** to calculate the molecular weight on the object \"aa_seq\". It creates an object called \"mol_wght\" to store the result of the function.\n",
    "3. Uses the **fifth function** to calculate the G/C percentage on the `value` variable. It creates an object called \"GC_con\" to store the result of the function\n",
    "4. Looks in the `penguin_df` dataframe for the cell that has in the `species` column the species name denoted by the `key` variable as row coordinate indicator, and the column `molecular_weight` (as column coordinate). It then replaces the value for this cell with the value in \"mol_wght\".\n",
    "5. Looks in the `penguin_df` dataframe for the cell that has in the `species` column the species name denoted by the `key` variable as row coordinate indicator, and the column `GC_content` as column coordinate. It then replaces the value for this cell with the value in \"GC_con\"."
   ]
  },
  {
   "cell_type": "code",
   "execution_count": 12,
   "metadata": {},
   "outputs": [
    {
     "data": {
      "text/html": [
       "<div>\n",
       "<style>\n",
       "    .dataframe thead tr:only-child th {\n",
       "        text-align: right;\n",
       "    }\n",
       "\n",
       "    .dataframe thead th {\n",
       "        text-align: left;\n",
       "    }\n",
       "\n",
       "    .dataframe tbody tr th {\n",
       "        vertical-align: top;\n",
       "    }\n",
       "</style>\n",
       "<table border=\"1\" class=\"dataframe\">\n",
       "  <thead>\n",
       "    <tr style=\"text-align: right;\">\n",
       "      <th></th>\n",
       "      <th>species</th>\n",
       "      <th>mass</th>\n",
       "      <th>molecular_weight</th>\n",
       "      <th>GC_content</th>\n",
       "    </tr>\n",
       "  </thead>\n",
       "  <tbody>\n",
       "    <tr>\n",
       "      <th>0</th>\n",
       "      <td>Aptenodytes forsteri</td>\n",
       "      <td>28.00</td>\n",
       "      <td>42459.6</td>\n",
       "      <td>48.3815</td>\n",
       "    </tr>\n",
       "    <tr>\n",
       "      <th>1</th>\n",
       "      <td>Aptenodytes patagonicus</td>\n",
       "      <td>13.40</td>\n",
       "      <td>42563.7</td>\n",
       "      <td>49.6938</td>\n",
       "    </tr>\n",
       "    <tr>\n",
       "      <th>2</th>\n",
       "      <td>Eudyptes chrysocome</td>\n",
       "      <td>2.80</td>\n",
       "      <td>42475.6</td>\n",
       "      <td>51.1811</td>\n",
       "    </tr>\n",
       "    <tr>\n",
       "      <th>3</th>\n",
       "      <td>Eudyptes chrysolophus</td>\n",
       "      <td>4.50</td>\n",
       "      <td>42445.5</td>\n",
       "      <td>50.9186</td>\n",
       "    </tr>\n",
       "    <tr>\n",
       "      <th>4</th>\n",
       "      <td>Eudyptes sclateri</td>\n",
       "      <td>4.25</td>\n",
       "      <td>42475.6</td>\n",
       "      <td>50.8311</td>\n",
       "    </tr>\n",
       "    <tr>\n",
       "      <th>5</th>\n",
       "      <td>Eudyptula minor</td>\n",
       "      <td>1.60</td>\n",
       "      <td>42491.6</td>\n",
       "      <td>49.2563</td>\n",
       "    </tr>\n",
       "    <tr>\n",
       "      <th>6</th>\n",
       "      <td>Pygoscelis adeliae</td>\n",
       "      <td>4.60</td>\n",
       "      <td>42458.6</td>\n",
       "      <td>49.0814</td>\n",
       "    </tr>\n",
       "    <tr>\n",
       "      <th>7</th>\n",
       "      <td>Pygoscelis antarctica</td>\n",
       "      <td>4.10</td>\n",
       "      <td>42404.5</td>\n",
       "      <td>47.769</td>\n",
       "    </tr>\n",
       "    <tr>\n",
       "      <th>8</th>\n",
       "      <td>Pygoscelis papua</td>\n",
       "      <td>6.10</td>\n",
       "      <td>42595.9</td>\n",
       "      <td>47.1566</td>\n",
       "    </tr>\n",
       "    <tr>\n",
       "      <th>9</th>\n",
       "      <td>Spheniscus demersus</td>\n",
       "      <td>3.20</td>\n",
       "      <td>42431.5</td>\n",
       "      <td>48.294</td>\n",
       "    </tr>\n",
       "    <tr>\n",
       "      <th>10</th>\n",
       "      <td>Spheniscus humboldti</td>\n",
       "      <td>4.75</td>\n",
       "      <td>42399.6</td>\n",
       "      <td>49.2563</td>\n",
       "    </tr>\n",
       "    <tr>\n",
       "      <th>11</th>\n",
       "      <td>Spheniscus magellanicus</td>\n",
       "      <td>3.40</td>\n",
       "      <td>42459.6</td>\n",
       "      <td>48.2065</td>\n",
       "    </tr>\n",
       "  </tbody>\n",
       "</table>\n",
       "</div>"
      ],
      "text/plain": [
       "                    species   mass molecular_weight GC_content\n",
       "0      Aptenodytes forsteri  28.00          42459.6    48.3815\n",
       "1   Aptenodytes patagonicus  13.40          42563.7    49.6938\n",
       "2       Eudyptes chrysocome   2.80          42475.6    51.1811\n",
       "3     Eudyptes chrysolophus   4.50          42445.5    50.9186\n",
       "4         Eudyptes sclateri   4.25          42475.6    50.8311\n",
       "5           Eudyptula minor   1.60          42491.6    49.2563\n",
       "6        Pygoscelis adeliae   4.60          42458.6    49.0814\n",
       "7     Pygoscelis antarctica   4.10          42404.5     47.769\n",
       "8          Pygoscelis papua   6.10          42595.9    47.1566\n",
       "9       Spheniscus demersus   3.20          42431.5     48.294\n",
       "10     Spheniscus humboldti   4.75          42399.6    49.2563\n",
       "11  Spheniscus magellanicus   3.40          42459.6    48.2065"
      ]
     },
     "execution_count": 12,
     "metadata": {},
     "output_type": "execute_result"
    }
   ],
   "source": [
    "penguins_df"
   ]
  },
  {
   "cell_type": "markdown",
   "metadata": {},
   "source": [
    "### **Plot a bar-chart of the mass with the x-axes labeled with species names.**"
   ]
  },
  {
   "cell_type": "code",
   "execution_count": 13,
   "metadata": {
    "collapsed": true
   },
   "outputs": [],
   "source": [
    "import matplotlib.pyplot as plt\n",
    "import seaborn as sns"
   ]
  },
  {
   "cell_type": "code",
   "execution_count": 14,
   "metadata": {
    "collapsed": true
   },
   "outputs": [],
   "source": [
    "%matplotlib inline"
   ]
  },
  {
   "cell_type": "code",
   "execution_count": 15,
   "metadata": {},
   "outputs": [
    {
     "data": {
      "text/plain": [
       "<matplotlib.text.Text at 0x26ba7ef3dd8>"
      ]
     },
     "execution_count": 15,
     "metadata": {},
     "output_type": "execute_result"
    },
    {
     "data": {
      "image/png": "[encoded data removed]",
      "text/plain": [
       "<matplotlib.figure.Figure at 0x26ba7c8d5f8>"
      ]
     },
     "metadata": {},
     "output_type": "display_data"
    }
   ],
   "source": [
    "g = sns.barplot(\"species\",\"mass\", data=penguins_df)\n",
    "g.set_xticklabels(g.get_xticklabels(), rotation=30, ha='right')\n",
    "g.set_title('Average Body Mass Per Species')"
   ]
  },
  {
   "cell_type": "markdown",
   "metadata": {},
   "source": [
    "## *Q1* What is the smallest penguin species?\n",
    "### The smallest penguin species, according to this plot is *Edyptula minor*\n",
    "\n",
    "## *Q2* What else is interesting about this species?\n",
    "### The official Linux mascot, called \"Tux\" is an *E. minor* :)"
   ]
  },
  {
   "cell_type": "markdown",
   "metadata": {},
   "source": [
    "### **Plot a visualization of the molecular weight (y-axis) as a function of GC-content (x-axis).**"
   ]
  },
  {
   "cell_type": "code",
   "execution_count": 16,
   "metadata": {},
   "outputs": [
    {
     "data": {
      "image/png": "[encoded data removed]",
      "text/plain": [
       "<matplotlib.figure.Figure at 0x26ba7fb8630>"
      ]
     },
     "metadata": {},
     "output_type": "display_data"
    }
   ],
   "source": [
    "h = sns.lmplot(\"GC_content\",\"molecular_weight\", data=penguins_df, fit_reg=False)"
   ]
  },
  {
   "cell_type": "markdown",
   "metadata": {},
   "source": [
    "### **Save the new DataFrame to a file called \"penguins_mass_cytb.csv\"**"
   ]
  },
  {
   "cell_type": "code",
   "execution_count": 17,
   "metadata": {
    "collapsed": true
   },
   "outputs": [],
   "source": [
    "penguins_df.to_csv(\"penguins_mass_cytb.csv\", index = False)"
   ]
  }
 ],
 "metadata": {
  "kernelspec": {
   "display_name": "Python 3",
   "language": "python",
   "name": "python3"
  },
  "language_info": {
   "codemirror_mode": {
    "name": "ipython",
    "version": 3
   },
   "file_extension": ".py",
   "mimetype": "text/x-python",
   "name": "python",
   "nbconvert_exporter": "python",
   "pygments_lexer": "ipython3",
   "version": "3.6.2"
  }
 },
 "nbformat": 4,
 "nbformat_minor": 2
}
